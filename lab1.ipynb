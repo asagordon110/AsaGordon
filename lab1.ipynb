{
  "cells": [
    {
      "cell_type": "markdown",
      "metadata": {
        "id": "view-in-github",
        "colab_type": "text"
      },
      "source": [
        "<a href=\"https://colab.research.google.com/github/asagordon110/AsaGordon/blob/main/lab1.ipynb\" target=\"_parent\"><img src=\"https://colab.research.google.com/assets/colab-badge.svg\" alt=\"Open In Colab\"/></a>"
      ]
    },
    {
      "cell_type": "markdown",
      "id": "7e8582cb",
      "metadata": {
        "id": "7e8582cb"
      },
      "source": [
        "# Lab 1 - Basic Python Programming and Biology Concepts\n",
        "\n",
        "This notebook provides Python coding exercises to practice list operations, string manipulations, and biological sequence analysis using Python. The exercises progress from basic list operations to analyzing real genomic data from bacterial genomes."
      ]
    },
    {
      "cell_type": "markdown",
      "id": "989c7bd3",
      "metadata": {
        "id": "989c7bd3"
      },
      "source": [
        "## List Indexing and Operations\n",
        "The following cells will guide you through various list indexing and operations in Python."
      ]
    },
    {
      "cell_type": "code",
      "execution_count": null,
      "id": "d550e9d0",
      "metadata": {
        "id": "d550e9d0"
      },
      "outputs": [],
      "source": [
        "example_list = list(range(1, 31, 3))  # Creates a list [1, 4, 7, ..., 28]\n",
        "print(\"Example list:\", example_list)"
      ]
    },
    {
      "cell_type": "code",
      "execution_count": null,
      "id": "4240d055",
      "metadata": {
        "id": "4240d055"
      },
      "outputs": [],
      "source": [
        "# Accessing elements\n",
        "print(\"First element:\", example_list[0])  # First element\n",
        "print(\"Last element:\", example_list[-1])  # Last element using negative index"
      ]
    },
    {
      "cell_type": "code",
      "execution_count": null,
      "id": "991377e1",
      "metadata": {
        "id": "991377e1"
      },
      "outputs": [],
      "source": [
        "# Slicing examples\n",
        "print(\"First three elements:\", example_list[:3])  # First three elements\n",
        "print(\"Last three elements:\", example_list[-3:])  # Last three elements\n",
        "print(\"Every other element:\", example_list[::2])  # Every other element"
      ]
    },
    {
      "cell_type": "code",
      "execution_count": null,
      "id": "6b840063-35fe-4eba-a677-6fb5e05f52ba",
      "metadata": {
        "id": "6b840063-35fe-4eba-a677-6fb5e05f52ba"
      },
      "outputs": [],
      "source": [
        "# List comprehension\n",
        "print(\"Create a new list by adding 1 to each number in example_list:\", [i + 1 for i in example_list])\n",
        "print(\"Create a new list by keeping only the odd numbers in example_list and multiplying them by 2:\", [i * 2 for i in example_list if i % 2])"
      ]
    },
    {
      "cell_type": "markdown",
      "id": "dd4fa582",
      "metadata": {
        "id": "dd4fa582"
      },
      "source": [
        "### Student Exercises for List Indexing (5 tasks)\n",
        "\n",
        "Try to accomplish each task with one line or as few lines as possible. Remember the value of the last line in each cell will be displayed by default, without using print. See Task 1 as an example."
      ]
    },
    {
      "cell_type": "code",
      "execution_count": 3,
      "id": "485b801c",
      "metadata": {
        "colab": {
          "base_uri": "https://localhost:8080/"
        },
        "id": "485b801c",
        "outputId": "8631c524-78cc-42bf-8535-a94833eb8036",
        "collapsed": true
      },
      "outputs": [
        {
          "output_type": "execute_result",
          "data": {
            "text/plain": [
              "4"
            ]
          },
          "metadata": {},
          "execution_count": 3
        }
      ],
      "source": [
        "# Task 1: Retrieve the second element from example_list\n",
        "# This is provided to show you that you don't need to use \"print\" if the the last line is all you need to display\n",
        "example_list = list(range(1, 31, 3))\n",
        "example_list[1]"
      ]
    },
    {
      "cell_type": "code",
      "execution_count": 4,
      "id": "be3c5dde",
      "metadata": {
        "id": "be3c5dde",
        "colab": {
          "base_uri": "https://localhost:8080/"
        },
        "outputId": "79adc3c0-4e72-40a0-b16a-e3b7b94a1e54"
      },
      "outputs": [
        {
          "output_type": "execute_result",
          "data": {
            "text/plain": [
              "[22, 25, 28]"
            ]
          },
          "metadata": {},
          "execution_count": 4
        }
      ],
      "source": [
        "# Task 2: Retrieve the last three elements using negative indexing\n",
        "example_list[-3:]"
      ]
    },
    {
      "cell_type": "code",
      "execution_count": 5,
      "id": "acaba118",
      "metadata": {
        "id": "acaba118",
        "colab": {
          "base_uri": "https://localhost:8080/"
        },
        "outputId": "5f19790e-05e3-4533-a950-37182faf7b05"
      },
      "outputs": [
        {
          "output_type": "execute_result",
          "data": {
            "text/plain": [
              "[28, 25, 22, 19, 16, 13, 10, 7, 4, 1]"
            ]
          },
          "metadata": {},
          "execution_count": 5
        }
      ],
      "source": [
        "# Task 3: Reverse the list using slicing\n",
        "# Think for a minute: can you use example_list.reverse()? How would it affect the remaining tasks?\n",
        "\n",
        "example_list[::-1]\n"
      ]
    },
    {
      "cell_type": "code",
      "execution_count": 6,
      "id": "a6d5a642",
      "metadata": {
        "id": "a6d5a642",
        "colab": {
          "base_uri": "https://localhost:8080/"
        },
        "outputId": "a583de7b-0472-454f-a174-d7b1c63f0e87"
      },
      "outputs": [
        {
          "output_type": "execute_result",
          "data": {
            "text/plain": [
              "[1, 10, 19, 28]"
            ]
          },
          "metadata": {},
          "execution_count": 6
        }
      ],
      "source": [
        "# Task 4: Retrieve every third element from the list\n",
        "example_list[::3]"
      ]
    },
    {
      "cell_type": "code",
      "execution_count": 7,
      "id": "361ce7ef",
      "metadata": {
        "id": "361ce7ef",
        "colab": {
          "base_uri": "https://localhost:8080/"
        },
        "outputId": "b84d3117-ffbd-45f5-b6de-cf39c2488e1a"
      },
      "outputs": [
        {
          "output_type": "execute_result",
          "data": {
            "text/plain": [
              "6"
            ]
          },
          "metadata": {},
          "execution_count": 7
        }
      ],
      "source": [
        "# Task 5: Find the index of the element '19' in the list\n",
        "# find out what function to use from here: https://www.w3schools.com/python/python_ref_list.asp\n",
        "example_list.index(19)\n"
      ]
    },
    {
      "cell_type": "markdown",
      "id": "34f90c18",
      "metadata": {
        "id": "34f90c18"
      },
      "source": [
        "## String Operations\n",
        "The following cells will guide you through various string manipulations in Python."
      ]
    },
    {
      "cell_type": "code",
      "execution_count": null,
      "id": "5257e364",
      "metadata": {
        "id": "5257e364"
      },
      "outputs": [],
      "source": [
        "example_string = \"AABBAAACCAABB\"\n",
        "print(\"Example string:\", example_string)"
      ]
    },
    {
      "cell_type": "code",
      "execution_count": null,
      "id": "301f686d",
      "metadata": {
        "id": "301f686d"
      },
      "outputs": [],
      "source": [
        "# Indexing\n",
        "print(\"First character:\", example_string[0])\n",
        "print(\"Last character:\", example_string[-1])"
      ]
    },
    {
      "cell_type": "code",
      "execution_count": null,
      "id": "7d8f32bb",
      "metadata": {
        "id": "7d8f32bb"
      },
      "outputs": [],
      "source": [
        "# Slicing\n",
        "print(\"First three characters:\", example_string[:3])\n",
        "print(\"Last three characters:\", example_string[-3:])"
      ]
    },
    {
      "cell_type": "code",
      "execution_count": null,
      "id": "4a614a1e",
      "metadata": {
        "id": "4a614a1e"
      },
      "outputs": [],
      "source": [
        "# String methods\n",
        "# See a complete list of available functions at: https://www.w3schools.com/python/python_ref_string.asp\n",
        "print(\"Count of 'AA':\", example_string.count('AA'))\n",
        "print(\"Position of first 'BB':\", example_string.find('BB'))\n",
        "print(\"split the string into a list of substrings using 'AA':\", example_string.split('AA'))\n",
        "print(\"split the string into a list of substrings using 'A' and rejoin with '': \", ''.join(example_string.split('AA')))"
      ]
    },
    {
      "cell_type": "markdown",
      "id": "9b45bf17",
      "metadata": {
        "id": "9b45bf17"
      },
      "source": [
        "### Student Exercises for String Manipulation (5 tasks)"
      ]
    },
    {
      "cell_type": "code",
      "execution_count": 8,
      "id": "67f5affb",
      "metadata": {
        "id": "67f5affb",
        "colab": {
          "base_uri": "https://localhost:8080/",
          "height": 35
        },
        "outputId": "bac289e5-dbe4-4974-a14e-d2cd1b4f9abb"
      },
      "outputs": [
        {
          "output_type": "execute_result",
          "data": {
            "text/plain": [
              "'A'"
            ],
            "application/vnd.google.colaboratory.intrinsic+json": {
              "type": "string"
            }
          },
          "metadata": {},
          "execution_count": 8
        }
      ],
      "source": [
        "# Task 6: Retrieve the second character from example_string\n",
        "example_string = \"AABBAAACCAABB\"\n",
        "example_string[1]"
      ]
    },
    {
      "cell_type": "code",
      "execution_count": 9,
      "id": "cdfe2d58",
      "metadata": {
        "id": "cdfe2d58",
        "colab": {
          "base_uri": "https://localhost:8080/",
          "height": 35
        },
        "outputId": "add5634a-fde1-4700-9d48-d9d228320c9b"
      },
      "outputs": [
        {
          "output_type": "execute_result",
          "data": {
            "text/plain": [
              "'BBAA'"
            ],
            "application/vnd.google.colaboratory.intrinsic+json": {
              "type": "string"
            }
          },
          "metadata": {},
          "execution_count": 9
        }
      ],
      "source": [
        "# Task 7: Retrieve the substring from index 2 to 5 (inclusive)\n",
        "example_string[2:6]"
      ]
    },
    {
      "cell_type": "code",
      "execution_count": 10,
      "id": "747231fa",
      "metadata": {
        "id": "747231fa",
        "colab": {
          "base_uri": "https://localhost:8080/",
          "height": 35
        },
        "outputId": "5400d4a5-3ff5-4fe1-9736-cfa8e7a4eed6"
      },
      "outputs": [
        {
          "output_type": "execute_result",
          "data": {
            "text/plain": [
              "'XXBBXXXCCXXBB'"
            ],
            "application/vnd.google.colaboratory.intrinsic+json": {
              "type": "string"
            }
          },
          "metadata": {},
          "execution_count": 10
        }
      ],
      "source": [
        "# Task 8: Replace all occurrences of 'A' with 'X'\n",
        "example_string.replace('A','X')"
      ]
    },
    {
      "cell_type": "code",
      "execution_count": 11,
      "id": "f1b92f8b",
      "metadata": {
        "id": "f1b92f8b",
        "colab": {
          "base_uri": "https://localhost:8080/"
        },
        "outputId": "473a02d9-006a-4c7e-d1a9-b2468ff0d5d1"
      },
      "outputs": [
        {
          "output_type": "execute_result",
          "data": {
            "text/plain": [
              "['AA', '', 'AAACCAA', '', '']"
            ]
          },
          "metadata": {},
          "execution_count": 11
        }
      ],
      "source": [
        "# Task 9: Split the string into a list of substrings separated by 'B'\n",
        "example_string.split('B')\n"
      ]
    },
    {
      "cell_type": "code",
      "execution_count": 13,
      "id": "0dc1b3f7",
      "metadata": {
        "id": "0dc1b3f7",
        "colab": {
          "base_uri": "https://localhost:8080/"
        },
        "outputId": "85d8eab2-ee41-4181-e3c8-3ccf835e5c4c"
      },
      "outputs": [
        {
          "output_type": "execute_result",
          "data": {
            "text/plain": [
              "['AABBAAACCAABB']"
            ]
          },
          "metadata": {},
          "execution_count": 13
        }
      ],
      "source": [
        "# Task 10: convert the string into a list of chars\n",
        "example_string.split()\n"
      ]
    },
    {
      "cell_type": "markdown",
      "id": "e675511f",
      "metadata": {
        "id": "e675511f"
      },
      "source": [
        "## Biological Sequence Analysis\n",
        "The following cells will apply string operations in the context of DNA sequences.\n",
        "In this lab, DNA sequences are A, C, G, T in upper cases, and RNA sequences are A, C, G, U in upper cases."
      ]
    },
    {
      "cell_type": "code",
      "execution_count": 31,
      "id": "5262cec8-5640-4737-812c-095aed08f444",
      "metadata": {
        "id": "5262cec8-5640-4737-812c-095aed08f444"
      },
      "outputs": [],
      "source": [
        "# We first define two dictionaries for the remaining tasks:\n",
        "# The first dictionary defines the complement rule\n",
        "\n",
        "complement = {'A':'T', 'T':'A', 'C':'G', 'G':'C'}  # complement['A'] gives you 'T', and vice versa.\n",
        "\n",
        "# The second dictionary defines the genetic code\n",
        "# Given a three letter word from an RNA sequence, e.g., 'AAA', genetic_code['AAA'] gives you the letter 'K', representing the amino acid Lysine\n",
        "\n",
        "genetic_code = {\n",
        "    'AAA': 'K',  # Lysine\n",
        "    'AAC': 'N',  # Asparagine\n",
        "    'AAG': 'K',  # Lysine\n",
        "    'AAU': 'N',  # Asparagine\n",
        "    'ACA': 'T',  # Threonine\n",
        "    'ACC': 'T',  # Threonine\n",
        "    'ACG': 'T',  # Threonine\n",
        "    'ACU': 'T',  # Threonine\n",
        "    'AGA': 'R',  # Arginine\n",
        "    'AGC': 'S',  # Serine\n",
        "    'AGG': 'R',  # Arginine\n",
        "    'AGU': 'S',  # Serine\n",
        "    'AUA': 'I',  # Isoleucine\n",
        "    'AUC': 'I',  # Isoleucine\n",
        "    'AUG': 'M',  # Methionine (Start codon)\n",
        "    'AUU': 'I',  # Isoleucine\n",
        "    'CAA': 'Q',  # Glutamine\n",
        "    'CAC': 'H',  # Histidine\n",
        "    'CAG': 'Q',  # Glutamine\n",
        "    'CAU': 'H',  # Histidine\n",
        "    'CCA': 'P',  # Proline\n",
        "    'CCC': 'P',  # Proline\n",
        "    'CCG': 'P',  # Proline\n",
        "    'CCU': 'P',  # Proline\n",
        "    'CGA': 'R',  # Arginine\n",
        "    'CGC': 'R',  # Arginine\n",
        "    'CGG': 'R',  # Arginine\n",
        "    'CGU': 'R',  # Arginine\n",
        "    'CUA': 'L',  # Leucine\n",
        "    'CUC': 'L',  # Leucine\n",
        "    'CUG': 'L',  # Leucine\n",
        "    'CUU': 'L',  # Leucine\n",
        "    'GAA': 'E',  # Glutamic acid\n",
        "    'GAC': 'D',  # Aspartic acid\n",
        "    'GAG': 'E',  # Glutamic acid\n",
        "    'GAU': 'D',  # Aspartic acid\n",
        "    'GCA': 'A',  # Alanine\n",
        "    'GCC': 'A',  # Alanine\n",
        "    'GCG': 'A',  # Alanine\n",
        "    'GCU': 'A',  # Alanine\n",
        "    'GGA': 'G',  # Glycine\n",
        "    'GGC': 'G',  # Glycine\n",
        "    'GGG': 'G',  # Glycine\n",
        "    'GGU': 'G',  # Glycine\n",
        "    'GUA': 'V',  # Valine\n",
        "    'GUC': 'V',  # Valine\n",
        "    'GUG': 'V',  # Valine\n",
        "    'GUU': 'V',   # Valine\n",
        "    'UAA': '*',  # Stop codon\n",
        "    'UAC': 'Y',  # Tyrosine\n",
        "    'UAG': '*',  # Stop codon\n",
        "    'UAU': 'Y',  # Tyrosine\n",
        "    'UCA': 'S',  # Serine\n",
        "    'UCC': 'S',  # Serine\n",
        "    'UCG': 'S',  # Serine\n",
        "    'UCU': 'S',  # Serine\n",
        "    'UGA': '*',  # Stop codon\n",
        "    'UGC': 'C',  # Cysteine\n",
        "    'UGG': 'W',  # Tryptophan\n",
        "    'UGU': 'C',  # Cysteine\n",
        "    'UUA': 'L',  # Leucine\n",
        "    'UUC': 'F',  # Phenylalanine\n",
        "    'UUG': 'L',  # Leucine\n",
        "    'UUU': 'F'   # Phenylalanine\n",
        "}\n"
      ]
    },
    {
      "cell_type": "markdown",
      "id": "e41e0946-244f-41d6-b100-ccbbcd16e67e",
      "metadata": {
        "id": "e41e0946-244f-41d6-b100-ccbbcd16e67e"
      },
      "source": [
        "### Student Exercises for Biological Sequences (5 Tasks)"
      ]
    },
    {
      "cell_type": "code",
      "execution_count": 14,
      "id": "700d1494",
      "metadata": {
        "id": "700d1494",
        "colab": {
          "base_uri": "https://localhost:8080/",
          "height": 35
        },
        "outputId": "034f6c58-1e24-4da8-db31-83161f152cd0"
      },
      "outputs": [
        {
          "output_type": "execute_result",
          "data": {
            "text/plain": [
              "'TCATGCGTA'"
            ],
            "application/vnd.google.colaboratory.intrinsic+json": {
              "type": "string"
            }
          },
          "metadata": {},
          "execution_count": 14
        }
      ],
      "source": [
        "# Task 11: Give a DNA sequence, find the reverse sequence\n",
        "dna_sequence = \"ATGCGTACT\"\n",
        "dna_sequence[::-1] #reverse sequence\n"
      ]
    },
    {
      "cell_type": "code",
      "execution_count": 15,
      "id": "cb54e517",
      "metadata": {
        "id": "cb54e517",
        "colab": {
          "base_uri": "https://localhost:8080/",
          "height": 35
        },
        "outputId": "290335df-f9e6-4dd1-a750-6843d83aa4c3"
      },
      "outputs": [
        {
          "output_type": "execute_result",
          "data": {
            "text/plain": [
              "'AUGCGUACU'"
            ],
            "application/vnd.google.colaboratory.intrinsic+json": {
              "type": "string"
            }
          },
          "metadata": {},
          "execution_count": 15
        }
      ],
      "source": [
        "# Task 12: Given the dna_sequence as a coding strand, find the mRNA sequence\n",
        "# (Replace 'T' with 'U')\n",
        "dna_sequence.replace('T','U')\n"
      ]
    },
    {
      "cell_type": "code",
      "execution_count": 19,
      "id": "ca36f8a5",
      "metadata": {
        "id": "ca36f8a5",
        "colab": {
          "base_uri": "https://localhost:8080/"
        },
        "outputId": "d47cddb3-8f8b-4bee-a80c-e04c73c7d403"
      },
      "outputs": [
        {
          "output_type": "execute_result",
          "data": {
            "text/plain": [
              "['A', 'G', 'T', 'A', 'C', 'G', 'C', 'A', 'T']"
            ]
          },
          "metadata": {},
          "execution_count": 19
        }
      ],
      "source": [
        "# Task 13: Given the dna_sequence, compute the reverse complement sequence.\n",
        "# If necessary, you can use multiple lines and break the task into two steps:\n",
        "# first finding the complement sequence, and then reverse it. (Or the other way around.)\n",
        "complement = {'A':'T', 'T':'A', 'C':'G', 'G':'C'}\n",
        "example_list = []\n",
        "for i in dna_sequence:\n",
        "    example_list.append(complement[i])\n",
        "example_list[::-1]\n"
      ]
    },
    {
      "cell_type": "code",
      "execution_count": 32,
      "id": "00799c59",
      "metadata": {
        "id": "00799c59",
        "colab": {
          "base_uri": "https://localhost:8080/",
          "height": 35
        },
        "outputId": "78d13b94-d37a-4c5d-f1f5-86125ba1d9d5"
      },
      "outputs": [
        {
          "output_type": "execute_result",
          "data": {
            "text/plain": [
              "'MTH'"
            ],
            "application/vnd.google.colaboratory.intrinsic+json": {
              "type": "string"
            }
          },
          "metadata": {},
          "execution_count": 32
        }
      ],
      "source": [
        "# Task 14: Perform a virtual translation of the above dna_sequence using the genetic_code table\n",
        "# You can break it into three steps:\n",
        "#    First, convert the dna sequence to mRNA sequence\n",
        "#    Then, start from the beginning of the mRNA, for every three letters, convert them to a single letter\n",
        "#         representing an amino acide using the genetic_code, add it to a list\n",
        "#    Finally, join the amino acids in the list into a protein sequence\n",
        "genetic_code = {\n",
        "    'AAA': 'K',  # Lysine\n",
        "    'AAC': 'N',  # Asparagine\n",
        "    'AAG': 'K',  # Lysine\n",
        "    'AAU': 'N',  # Asparagine\n",
        "    'ACA': 'T',  # Threonine\n",
        "    'ACC': 'T',  # Threonine\n",
        "    'ACG': 'T',  # Threonine\n",
        "    'ACU': 'T',  # Threonine\n",
        "    'AGA': 'R',  # Arginine\n",
        "    'AGC': 'S',  # Serine\n",
        "    'AGG': 'R',  # Arginine\n",
        "    'AGU': 'S',  # Serine\n",
        "    'AUA': 'I',  # Isoleucine\n",
        "    'AUC': 'I',  # Isoleucine\n",
        "    'AUG': 'M',  # Methionine (Start codon)\n",
        "    'AUU': 'I',  # Isoleucine\n",
        "    'CAA': 'Q',  # Glutamine\n",
        "    'CAC': 'H',  # Histidine\n",
        "    'CAG': 'Q',  # Glutamine\n",
        "    'CAU': 'H',  # Histidine\n",
        "    'CCA': 'P',  # Proline\n",
        "    'CCC': 'P',  # Proline\n",
        "    'CCG': 'P',  # Proline\n",
        "    'CCU': 'P',  # Proline\n",
        "    'CGA': 'R',  # Arginine\n",
        "    'CGC': 'R',  # Arginine\n",
        "    'CGG': 'R',  # Arginine\n",
        "    'CGU': 'R',  # Arginine\n",
        "    'CUA': 'L',  # Leucine\n",
        "    'CUC': 'L',  # Leucine\n",
        "    'CUG': 'L',  # Leucine\n",
        "    'CUU': 'L',  # Leucine\n",
        "    'GAA': 'E',  # Glutamic acid\n",
        "    'GAC': 'D',  # Aspartic acid\n",
        "    'GAG': 'E',  # Glutamic acid\n",
        "    'GAU': 'D',  # Aspartic acid\n",
        "    'GCA': 'A',  # Alanine\n",
        "    'GCC': 'A',  # Alanine\n",
        "    'GCG': 'A',  # Alanine\n",
        "    'GCU': 'A',  # Alanine\n",
        "    'GGA': 'G',  # Glycine\n",
        "    'GGC': 'G',  # Glycine\n",
        "    'GGG': 'G',  # Glycine\n",
        "    'GGU': 'G',  # Glycine\n",
        "    'GUA': 'V',  # Valine\n",
        "    'GUC': 'V',  # Valine\n",
        "    'GUG': 'V',  # Valine\n",
        "    'GUU': 'V',   # Valine\n",
        "    'UAA': '*',  # Stop codon\n",
        "    'UAC': 'Y',  # Tyrosine\n",
        "    'UAG': '*',  # Stop codon\n",
        "    'UAU': 'Y',  # Tyrosine\n",
        "    'UCA': 'S',  # Serine\n",
        "    'UCC': 'S',  # Serine\n",
        "    'UCG': 'S',  # Serine\n",
        "    'UCU': 'S',  # Serine\n",
        "    'UGA': '*',  # Stop codon\n",
        "    'UGC': 'C',  # Cysteine\n",
        "    'UGG': 'W',  # Tryptophan\n",
        "    'UGU': 'C',  # Cysteine\n",
        "    'UUA': 'L',  # Leucine\n",
        "    'UUC': 'F',  # Phenylalanine\n",
        "    'UUG': 'L',  # Leucine\n",
        "    'UUU': 'F'   # Phenylalanine\n",
        "}\n",
        "\n",
        "mRNA = dna_sequence.replace('T','U')\n",
        "protein = []\n",
        "for i in range(0, len(mRNA), 3):\n",
        "    protein.append(genetic_code[mRNA[i:i+3]])\n",
        "''.join(protein)\n",
        "\n"
      ]
    },
    {
      "cell_type": "code",
      "execution_count": 33,
      "id": "909e1b21",
      "metadata": {
        "colab": {
          "base_uri": "https://localhost:8080/",
          "height": 349
        },
        "id": "909e1b21",
        "outputId": "a77d2d11-d257-4a23-91d8-f449ca0c7489"
      },
      "outputs": [
        {
          "output_type": "stream",
          "name": "stdout",
          "text": [
            "The reverse complement of ATGACTCAT is ATGAGTCAT\n"
          ]
        },
        {
          "output_type": "error",
          "ename": "TypeError",
          "evalue": "'dict' object is not callable",
          "traceback": [
            "\u001b[0;31m---------------------------------------------------------------------------\u001b[0m",
            "\u001b[0;31mTypeError\u001b[0m                                 Traceback (most recent call last)",
            "\u001b[0;32m<ipython-input-33-6d700afa900f>\u001b[0m in \u001b[0;36m<cell line: 0>\u001b[0;34m()\u001b[0m\n\u001b[1;32m     22\u001b[0m \u001b[0mprint\u001b[0m\u001b[0;34m(\u001b[0m\u001b[0;34m'The reverse complement of {} is {}'\u001b[0m\u001b[0;34m.\u001b[0m\u001b[0mformat\u001b[0m\u001b[0;34m(\u001b[0m\u001b[0mdna_sequence\u001b[0m\u001b[0;34m,\u001b[0m \u001b[0mrev_comp\u001b[0m\u001b[0;34m(\u001b[0m\u001b[0mdna_sequence\u001b[0m\u001b[0;34m)\u001b[0m\u001b[0;34m)\u001b[0m\u001b[0;34m)\u001b[0m\u001b[0;34m\u001b[0m\u001b[0;34m\u001b[0m\u001b[0m\n\u001b[1;32m     23\u001b[0m \u001b[0;34m\u001b[0m\u001b[0m\n\u001b[0;32m---> 24\u001b[0;31m \u001b[0mprint\u001b[0m\u001b[0;34m(\u001b[0m\u001b[0;34m'The protein seq encoded by {} is {}'\u001b[0m\u001b[0;34m.\u001b[0m\u001b[0mformat\u001b[0m\u001b[0;34m(\u001b[0m\u001b[0mdna_sequence\u001b[0m\u001b[0;34m,\u001b[0m \u001b[0mtranslate\u001b[0m\u001b[0;34m(\u001b[0m\u001b[0mdna_sequence\u001b[0m\u001b[0;34m)\u001b[0m\u001b[0;34m)\u001b[0m\u001b[0;34m)\u001b[0m\u001b[0;34m\u001b[0m\u001b[0;34m\u001b[0m\u001b[0m\n\u001b[0m\u001b[1;32m     25\u001b[0m \u001b[0;34m\u001b[0m\u001b[0m\n\u001b[1;32m     26\u001b[0m \u001b[0mprint\u001b[0m\u001b[0;34m(\u001b[0m\u001b[0;34m'The protein seq encoded by the reverse complement of {} is {}'\u001b[0m\u001b[0;34m.\u001b[0m\u001b[0mformat\u001b[0m\u001b[0;34m(\u001b[0m\u001b[0mdna_sequence\u001b[0m\u001b[0;34m,\u001b[0m \u001b[0mtranslate\u001b[0m\u001b[0;34m(\u001b[0m\u001b[0mrev_comp\u001b[0m\u001b[0;34m(\u001b[0m\u001b[0mdna_sequence\u001b[0m\u001b[0;34m)\u001b[0m\u001b[0;34m)\u001b[0m\u001b[0;34m)\u001b[0m\u001b[0;34m)\u001b[0m\u001b[0;34m\u001b[0m\u001b[0;34m\u001b[0m\u001b[0m\n",
            "\u001b[0;32m<ipython-input-33-6d700afa900f>\u001b[0m in \u001b[0;36mtranslate\u001b[0;34m(dna_seq)\u001b[0m\n\u001b[1;32m     12\u001b[0m   \u001b[0mprotein\u001b[0m \u001b[0;34m=\u001b[0m \u001b[0;34m[\u001b[0m\u001b[0;34m]\u001b[0m\u001b[0;34m\u001b[0m\u001b[0;34m\u001b[0m\u001b[0m\n\u001b[1;32m     13\u001b[0m   \u001b[0;32mfor\u001b[0m \u001b[0mi\u001b[0m \u001b[0;32min\u001b[0m \u001b[0mrange\u001b[0m\u001b[0;34m(\u001b[0m\u001b[0;36m0\u001b[0m\u001b[0;34m,\u001b[0m\u001b[0mlen\u001b[0m\u001b[0;34m(\u001b[0m\u001b[0mmRNA\u001b[0m\u001b[0;34m)\u001b[0m\u001b[0;34m,\u001b[0m\u001b[0;36m3\u001b[0m\u001b[0;34m)\u001b[0m\u001b[0;34m:\u001b[0m\u001b[0;34m\u001b[0m\u001b[0;34m\u001b[0m\u001b[0m\n\u001b[0;32m---> 14\u001b[0;31m     \u001b[0mprotein\u001b[0m\u001b[0;34m.\u001b[0m\u001b[0mappend\u001b[0m\u001b[0;34m(\u001b[0m\u001b[0mgenetic_code\u001b[0m\u001b[0;34m(\u001b[0m\u001b[0mmRNA\u001b[0m\u001b[0;34m[\u001b[0m\u001b[0mi\u001b[0m\u001b[0;34m:\u001b[0m\u001b[0mi\u001b[0m\u001b[0;34m+\u001b[0m\u001b[0;36m3\u001b[0m\u001b[0;34m]\u001b[0m\u001b[0;34m)\u001b[0m\u001b[0;34m)\u001b[0m\u001b[0;34m\u001b[0m\u001b[0;34m\u001b[0m\u001b[0m\n\u001b[0m\u001b[1;32m     15\u001b[0m   \u001b[0;32mreturn\u001b[0m \u001b[0;34m''\u001b[0m\u001b[0;34m.\u001b[0m\u001b[0mjoin\u001b[0m\u001b[0;34m(\u001b[0m\u001b[0mprotein\u001b[0m\u001b[0;34m)\u001b[0m\u001b[0;34m\u001b[0m\u001b[0;34m\u001b[0m\u001b[0m\n\u001b[1;32m     16\u001b[0m \u001b[0;34m\u001b[0m\u001b[0m\n",
            "\u001b[0;31mTypeError\u001b[0m: 'dict' object is not callable"
          ]
        }
      ],
      "source": [
        "# Task 15: Convert your code in Task 3 and Task 4 into two functions, and use the two functions\n",
        "# to perform virtual translation for the reverse complement of the dna_sequence\n",
        "\n",
        "\n",
        "def rev_comp(dna_seq):\n",
        "    example_list = [complement[i] for i in dna_seq]\n",
        "    example_list.reverse()\n",
        "    return ''.join(example_list)\n",
        "\n",
        "def translate(dna_seq):\n",
        "  mRNA = dna_seq.replace('T','U')\n",
        "  protein = []\n",
        "  for i in range(0,len(mRNA),3):\n",
        "    protein.append(genetic_code(mRNA[i:i+3]))\n",
        "  return ''.join(protein)\n",
        "\n",
        "# The following three lines are used to test your functions.\n",
        "# You should be able to see the result of the first two lines match with your results from tasks 3 and 4,\n",
        "# and the third line should give you \"STH\"\n",
        "\n",
        "dna_sequence = \"ATGACTCAT\"\n",
        "print('The reverse complement of {} is {}'.format(dna_sequence, rev_comp(dna_sequence)))\n",
        "\n",
        "print('The protein seq encoded by {} is {}'.format(dna_sequence, translate(dna_sequence)))\n",
        "\n",
        "print('The protein seq encoded by the reverse complement of {} is {}'.format(dna_sequence, translate(rev_comp(dna_sequence))))\n"
      ]
    },
    {
      "cell_type": "markdown",
      "id": "aa254555",
      "metadata": {
        "id": "aa254555"
      },
      "source": [
        "## Biopython package"
      ]
    },
    {
      "cell_type": "code",
      "execution_count": 28,
      "id": "97caea9d",
      "metadata": {
        "colab": {
          "base_uri": "https://localhost:8080/"
        },
        "id": "97caea9d",
        "outputId": "3ee8fd1b-f6ce-4396-e9e7-601f0420c234"
      },
      "outputs": [
        {
          "output_type": "stream",
          "name": "stdout",
          "text": [
            "Collecting biopython\n",
            "  Downloading biopython-1.85-cp311-cp311-manylinux_2_17_x86_64.manylinux2014_x86_64.whl.metadata (13 kB)\n",
            "Requirement already satisfied: numpy in /usr/local/lib/python3.11/dist-packages (from biopython) (1.26.4)\n",
            "Downloading biopython-1.85-cp311-cp311-manylinux_2_17_x86_64.manylinux2014_x86_64.whl (3.3 MB)\n",
            "\u001b[?25l   \u001b[90m━━━━━━━━━━━━━━━━━━━━━━━━━━━━━━━━━━━━━━━━\u001b[0m \u001b[32m0.0/3.3 MB\u001b[0m \u001b[31m?\u001b[0m eta \u001b[36m-:--:--\u001b[0m\r\u001b[2K   \u001b[91m━━━\u001b[0m\u001b[91m╸\u001b[0m\u001b[90m━━━━━━━━━━━━━━━━━━━━━━━━━━━━━━━━━━━━\u001b[0m \u001b[32m0.3/3.3 MB\u001b[0m \u001b[31m9.0 MB/s\u001b[0m eta \u001b[36m0:00:01\u001b[0m\r\u001b[2K   \u001b[91m━━━━━━━━━━━━━━━━━━━━━━━━━━━━━━━━━\u001b[0m\u001b[91m╸\u001b[0m\u001b[90m━━━━━━\u001b[0m \u001b[32m2.7/3.3 MB\u001b[0m \u001b[31m39.7 MB/s\u001b[0m eta \u001b[36m0:00:01\u001b[0m\r\u001b[2K   \u001b[90m━━━━━━━━━━━━━━━━━━━━━━━━━━━━━━━━━━━━━━━━\u001b[0m \u001b[32m3.3/3.3 MB\u001b[0m \u001b[31m33.6 MB/s\u001b[0m eta \u001b[36m0:00:00\u001b[0m\n",
            "\u001b[?25hInstalling collected packages: biopython\n",
            "Successfully installed biopython-1.85\n",
            "Biopython successfully installed\n"
          ]
        }
      ],
      "source": [
        "# Install Biopython on demand\n",
        "try:\n",
        "    import Bio\n",
        "    print('Biopython already installed')\n",
        "except ImportError:\n",
        "    !pip install biopython\n",
        "    print('Biopython successfully installed')\n",
        "\n"
      ]
    },
    {
      "cell_type": "markdown",
      "id": "6035be3e-b763-4b78-9bb7-74c34d23959f",
      "metadata": {
        "id": "6035be3e-b763-4b78-9bb7-74c34d23959f"
      },
      "source": [
        "### Retrieve sequence from NCBI nucleotide database"
      ]
    },
    {
      "cell_type": "code",
      "execution_count": 29,
      "id": "0d0ba515",
      "metadata": {
        "colab": {
          "base_uri": "https://localhost:8080/"
        },
        "id": "0d0ba515",
        "outputId": "6d5aafbf-4e66-4185-f4a8-0710b6da6dbb"
      },
      "outputs": [
        {
          "output_type": "stream",
          "name": "stdout",
          "text": [
            "NC_000913.3 Escherichia coli str. K-12 substr. MG1655, complete genome\n",
            "AGCTTTTCATTCTGACTGCAACGGGCAATATGTCTCTGTGTGGATTAAAAAAAGAGTGTCTGATAGCAGCTTCTGAACTGGTTACCTGCCGTGAGTAAAT\n"
          ]
        }
      ],
      "source": [
        "from Bio import Entrez, SeqIO\n",
        "\n",
        "# Retrieve E. coli genome from NCBI Entrez\n",
        "Entrez.email = 'your_email@example.com'\n",
        "accession = 'NC_000913.3'  # E. coli K-12 MG1655\n",
        "with Entrez.efetch(db='nucleotide', id=accession, rettype='fasta', retmode='text') as handle:\n",
        "    record = SeqIO.read(handle, 'fasta')\n",
        "\n",
        "# record.seq is of type Seq. You can use it as if it is a string; or you can convert to a string using str(record.seq), although not necessary\n",
        "\n",
        "print(record.description)\n",
        "print(record.seq[:100])  # Print first 100 bases\n"
      ]
    },
    {
      "cell_type": "code",
      "execution_count": 30,
      "id": "91d45444-519e-4264-ac9e-eee42ec9891e",
      "metadata": {
        "colab": {
          "base_uri": "https://localhost:8080/"
        },
        "id": "91d45444-519e-4264-ac9e-eee42ec9891e",
        "outputId": "947c9227-fd5d-4c13-b437-32be738fd0c2"
      },
      "outputs": [
        {
          "output_type": "execute_result",
          "data": {
            "text/plain": [
              "4641652"
            ]
          },
          "metadata": {},
          "execution_count": 30
        }
      ],
      "source": [
        "len(record.seq) # length of the genome"
      ]
    },
    {
      "cell_type": "markdown",
      "id": "9a060322-3b62-455f-b5db-22eb7d09ca4b",
      "metadata": {
        "id": "9a060322-3b62-455f-b5db-22eb7d09ca4b"
      },
      "source": [
        "### Investigate the frame shift mutation effect of DNA sequence (4 tasks)\n",
        "\n",
        "A \"frame shift\" is a genetic mutation that occurs when a DNA sequence is inserted or deleted by a number of nucleotides that is not\n",
        "a multiple of three. This disrupts the reading frame of the DNA sequence, which can lead to a shorter-than-normal protein.\n"
      ]
    },
    {
      "cell_type": "code",
      "execution_count": 41,
      "id": "ffa28d6e-2a0d-4b3c-bb07-d4984059e544",
      "metadata": {
        "id": "ffa28d6e-2a0d-4b3c-bb07-d4984059e544",
        "colab": {
          "base_uri": "https://localhost:8080/"
        },
        "outputId": "a79d5027-9ae6-4f9b-ab50-6549bc711d8b"
      },
      "outputs": [
        {
          "output_type": "stream",
          "name": "stdout",
          "text": [
            "Description: NC_000913.3 Escherichia coli str. K-12 substr. MG1655, complete genome\n",
            "First 100 bases of the genome: AGCTTTTCATTCTGACTGCAACGGGCAATATGTCTCTGTGTGGATTAAAAAAAGAGTGTCTGATAGCAGCTTCTGAACTGGTTACCTGCCGTGAGTAAAT\n",
            "\n",
            "Protein sequence for the thrA gene:\n",
            "MRVLKFGGTSVANAERFLRVADILESNARQGQVATVLSAPAKITNHLVAMIEKTISGQDALPNISDAERIFAELLTGLAAAQPGFPLAQLKTFVDQEFAQIKHVLHGISLLGQCPDSINAALICRGEKMSIAIMAGVLEARGHNVTVIDPVEKLLAVGHYLESTVDIAESTRRIAASRIPADHMVLMAGFTAGNEKGELVVLGRNGSDYSAAVLAACLRADCCEIWTDVDGVYTCDPRQVPDARLLKSMSYQEAMELSYFGAKVLHPRTITPIAQFQIPCLIKNTGNPQAPGTLIGASRDEDELPVKGISNLNNMAMFSVSGPGMKGMVGMAARVFAAMSRARISVVLITQSSSEYSISFCVPQSDCVRAERAMQEEFYLELKEGLLEPLAVTERLAIISVVGDGMRTLRGISAKFFAALARANINIVAIAQGSSERSISVVVNNDDATTGVRVTHQMLFNTDQVIEVFVIGVGGVGGALLEQLKRQQSWLKNKHIDLRVCGVANSKALLTNVHGLNLENWQEELAQAKEPFNLGRLIRLVKEYHLLNPVIVDCTSSQAVADQYADFLREGFHVVTPNKKANTSSMDYYHQLRYAAEKSRRKFLYDTNVGAGLPVIENLQNLLNAGDELMKFSGILSGSLSYIFGKLDEGMSFSEATTLAREMGYTEPDPRDDLSGMDVARKLLILARETGRELELADIEIEPVLPAEFNAEGDVAAFMANLSQLDDLFAARVAKARDEGKVLRYVGNIDEDGVCRVKIAEVDGNDPLFKVKNGENALAFYSHYYQPLPLVLRGYGAGNDVTAAGVFADLLRTLSWKLGV*\n",
            "Length of the protein sequence (excluding stop codons): 820\n"
          ]
        }
      ],
      "source": [
        "# Task 16:\n",
        "# Perform a virtual translation of a DNA sequence corresponding to the thrA gene from the E. coli genome using\n",
        "# the function translate() you defined, print out the protein sequence and its length (note that stop codon should not count towards length)\n",
        "from Bio import Entrez, SeqIO\n",
        "\n",
        "Entrez.email = 'asa.gordon@my.utsa.edu'\n",
        "accession = 'NC_000913.3'  # E. coli K-12 MG1655\n",
        "\n",
        "with Entrez.efetch(db='nucleotide', id=accession, rettype='fasta', retmode='text') as handle:\n",
        "    record = SeqIO.read(handle, 'fasta')\n",
        "\n",
        "print(f\"Description: {record.description}\")\n",
        "print(f\"First 100 bases of the genome: {record.seq[:100]}\")\n",
        "\n",
        "\n",
        "thrA = record.seq[336:2799]\n",
        "\n",
        "genetic_code = {\n",
        "    'AAA': 'K',  # Lysine\n",
        "    'AAC': 'N',  # Asparagine\n",
        "    'AAG': 'K',  # Lysine\n",
        "    'AAU': 'N',  # Asparagine\n",
        "    'ACA': 'T',  # Threonine\n",
        "    'ACC': 'T',  # Threonine\n",
        "    'ACG': 'T',  # Threonine\n",
        "    'ACU': 'T',  # Threonine\n",
        "    'AGA': 'R',  # Arginine\n",
        "    'AGC': 'S',  # Serine\n",
        "    'AGG': 'R',  # Arginine\n",
        "    'AGU': 'S',  # Serine\n",
        "    'AUA': 'I',  # Isoleucine\n",
        "    'AUC': 'I',  # Isoleucine\n",
        "    'AUG': 'M',  # Methionine (Start codon)\n",
        "    'AUU': 'I',  # Isoleucine\n",
        "    'CAA': 'Q',  # Glutamine\n",
        "    'CAC': 'H',  # Histidine\n",
        "    'CAG': 'Q',  # Glutamine\n",
        "    'CAU': 'H',  # Histidine\n",
        "    'CCA': 'P',  # Proline\n",
        "    'CCC': 'P',  # Proline\n",
        "    'CCG': 'P',  # Proline\n",
        "    'CCU': 'P',  # Proline\n",
        "    'CGA': 'R',  # Arginine\n",
        "    'CGC': 'R',  # Arginine\n",
        "    'CGG': 'R',  # Arginine\n",
        "    'CGU': 'R',  # Arginine\n",
        "    'CUA': 'L',  # Leucine\n",
        "    'CUC': 'L',  # Leucine\n",
        "    'CUG': 'L',  # Leucine\n",
        "    'CUU': 'L',  # Leucine\n",
        "    'GAA': 'E',  # Glutamic acid\n",
        "    'GAC': 'D',  # Aspartic acid\n",
        "    'GAG': 'E',  # Glutamic acid\n",
        "    'GAU': 'D',  # Aspartic acid\n",
        "    'GCA': 'A',  # Alanine\n",
        "    'GCC': 'A',  # Alanine\n",
        "    'GCG': 'A',  # Alanine\n",
        "    'GCU': 'A',  # Alanine\n",
        "    'GGA': 'G',  # Glycine\n",
        "    'GGC': 'G',  # Glycine\n",
        "    'GGG': 'G',  # Glycine\n",
        "    'GGU': 'G',  # Glycine\n",
        "    'GUA': 'V',  # Valine\n",
        "    'GUC': 'V',  # Valine\n",
        "    'GUG': 'V',  # Valine\n",
        "    'GUU': 'V',   # Valine\n",
        "    'UAA': '*',  # Stop codon\n",
        "    'UAC': 'Y',  # Tyrosine\n",
        "    'UAG': '*',  # Stop codon\n",
        "    'UAU': 'Y',  # Tyrosine\n",
        "    'UCA': 'S',  # Serine\n",
        "    'UCC': 'S',  # Serine\n",
        "    'UCG': 'S',  # Serine\n",
        "    'UCU': 'S',  # Serine\n",
        "    'UGA': '*',  # Stop codon\n",
        "    'UGC': 'C',  # Cysteine\n",
        "    'UGG': 'W',  # Tryptophan\n",
        "    'UGU': 'C',  # Cysteine\n",
        "    'UUA': 'L',  # Leucine\n",
        "    'UUC': 'F',  # Phenylalanine\n",
        "    'UUG': 'L',  # Leucine\n",
        "    'UUU': 'F'   # Phenylalanine\n",
        "}\n",
        "\n",
        "def translate(dna_seq):\n",
        "    mRNA = dna_seq.replace('T', 'U')  # Convert DNA to mRNA\n",
        "    protein = []\n",
        "    for i in range(0, len(mRNA), 3):\n",
        "        codon = mRNA[i:i+3]\n",
        "        if len(codon) == 3:  # Ensure codon is a full triplet\n",
        "            protein.append(genetic_code.get(codon, ''))  # Translate codon\n",
        "    return ''.join(protein)\n",
        "\n",
        "# Step 4: Translate the thrA DNA sequence into a protein sequence\n",
        "protein_sequence = translate(str(thrA))\n",
        "\n",
        "# Step 5: Exclude stop codons and calculate protein length\n",
        "protein_sequence_no_stop = protein_sequence.replace('*', '')\n",
        "\n",
        "print(f\"\\nProtein sequence for the thrA gene:\\n{protein_sequence}\")\n",
        "print(f\"Length of the protein sequence (excluding stop codons): {len(protein_sequence_no_stop)}\")"
      ]
    },
    {
      "cell_type": "code",
      "execution_count": 43,
      "id": "3fcfe423-47e2-4f19-939b-3329d30d0830",
      "metadata": {
        "id": "3fcfe423-47e2-4f19-939b-3329d30d0830",
        "colab": {
          "base_uri": "https://localhost:8080/"
        },
        "outputId": "e8ff7810-20d4-471c-bd6b-3554700828c3"
      },
      "outputs": [
        {
          "output_type": "stream",
          "name": "stdout",
          "text": [
            "\n",
            "Modified DNA sequence (first 100 bases): ATGGAGTGTTGAAGTTCGGCGGTACATCAGTGGCAAATGCAGAACGTTTTCTGCGTGTTGCCGATATTCTGGAAAGCAATGCCAGGCAGGGGCAGGTGGC\n",
            "\n",
            "Translated protein sequence:\n",
            "MEC*SSAVHQWQMQNVFCVLPIFWKAMPGRGRWPPSSLPPPKSPTTWWR*LKKPLAARMLYPISAMPNVFLPNF*RDSPPPSRGSRWRN*KLSSIRNLPK*NMSCMALVCWGSARIASTLR*FAVARKCRSPLWPAY*KRAVTTLLLSIRSKNCWQWGITSNLPSILLSPPAVLRQAAFRLITWC*WQVSPPVMKKANWWCLDATVPTTLLRCWLPVYAPIVARFGRTLTGSIPATRVRCPMRGC*SRCPTRKRWSFPTSALKFFTPAPLPPSPSSRSLA*LKIPEILKHQVRSLVPAVMKTNYRSRAFPI*ITWQCSAFLVRG*KGWSAWRRASLQRCHAPVFPWC*LRNHLPNTASVSAFHKATVCELNGQCRKSSTWN*KKAYWSRWQ*RNGWPLSRW*VMVCAPCVGSRRNSLPHWPAPISTLSPLLRDLLNAQSLSW*ITMMRPLACALLIRCCSIPIRLSKCL*LASVALAVRCWSN*SVSKAG*RINISTYVSAVLPTRRLCSPMYMALIWKTGRKNWRKPKSRLISGA*FAS*KNIIC*TRSLLTALPARQWRINMPTSCAKVSTLSRRTKRPTPRRWITTISCVMRRKNRGVNSSMTPTLGLDYRLLRTCKICSMQVMN**SSPAFFLVRFLISSAS*TKA*VSPRRPRWRGKWVIPNRTREMIFLVWMWRVNY*FSLVKRDVNWSWRILKLNLCCPQSLTPRVMLPLLWRICHNSTISLPRAWRRPVMKEKFCAMLAILMKMASAA*RLPKWMVMIRCSK*KMAKTPWPSIATIISRCRWYCADMVRAMTLQLPVSLLICYVPSHGS*ES\n",
            "Length of the protein sequence before the first stop codon: 3\n",
            "Number of stop codons in the translated protein sequence: 31\n"
          ]
        }
      ],
      "source": [
        "# Task 17:\n",
        "# For the thrA gene above, imagine that the letter at index 3 is deleted (note: the first three letters encode the start codon \"AUG\").\n",
        "# Perform a virtual translation of the remaining sequence, print out the translated protein sequence,\n",
        "# find out how long is the protein sequence (before translation results in the first stop condon, represented by '*'),\n",
        "# and how many stop condons are in the sequence.\n",
        "# (To make your sequence still a multiple of three, also delete the last two letters.)\n",
        "\n",
        "modified_thrA = thrA[:3] + thrA[4:-2]\n",
        "\n",
        "modified_protein_sequence = translate(str(modified_thrA))\n",
        "\n",
        "if '*' in modified_protein_sequence:\n",
        "    length_before_stop = modified_protein_sequence.index('*')\n",
        "else:\n",
        "    length_before_stop = len(modified_protein_sequence)\n",
        "\n",
        "# Count the number of stop codons in the protein sequence\n",
        "num_stop_codons = modified_protein_sequence.count('*')\n",
        "\n",
        "# Print the results\n",
        "print(f\"\\nModified DNA sequence (first 100 bases): {modified_thrA[:100]}\")\n",
        "print(f\"\\nTranslated protein sequence:\\n{modified_protein_sequence}\")\n",
        "print(f\"Length of the protein sequence before the first stop codon: {length_before_stop}\")\n",
        "print(f\"Number of stop codons in the translated protein sequence: {num_stop_codons}\")"
      ]
    },
    {
      "cell_type": "code",
      "execution_count": 46,
      "id": "adc49e52-d8f5-43d3-b392-9da978d6ba7b",
      "metadata": {
        "id": "adc49e52-d8f5-43d3-b392-9da978d6ba7b",
        "colab": {
          "base_uri": "https://localhost:8080/"
        },
        "outputId": "e74a41c0-056e-42d5-8d41-1634be37ce2c"
      },
      "outputs": [
        {
          "output_type": "stream",
          "name": "stdout",
          "text": [
            "\n",
            "Modified DNA sequence (first 100 bases): ATGAGTGTTGAAGTTCGGCGGTACATCAGTGGCAAATGCAGAACGTTTTCTGCGTGTTGCCGATATTCTGGAAAGCAATGCCAGGCAGGGGCAGGTGGCC\n",
            "\n",
            "Translated protein sequence:\n",
            "MSVEVRRYISGKCRTFSACCRYSGKQCQAGAGGHRPLCPRQNHQPPGGDD*KNH*RPGCFTQYQRCRTYFCRTFDGTRRRPAGVPAGAIENFRRSGICPNKTCPAWH*FVGAVPG*HQRCADLPWRENVDRHYGRRIRSARSQRYCYRSGRKTAGSGALPRIYRRYC*VHPPYCGKPHSG*SHGADGRFHRR**KRRTGGAWTQRFRLLCCGAGCLFTRRLLRDLDGR*RGLYLRPASGARCEVVEVDVLPGSDGAFLLRR*SSSPPHHYPHRPVPDPLPD*KYRKSSSTRYAHWCQP**RRITGQGHFQSE*HGNVQRFWSGDERDGRHGGARLCSDVTRPYFRGADYAIIFRIQHQFLRSTKRLCAS*TGNAGRVLPGTERRLTGAAGSDGTAGHYLGGR*WYAHLAWDLGEILCRTGPRQYQHCRHCSGIF*TLNLCRGK*R*CDHWRARYSSDAVQYRSGYRSVCDWRRWRWRCAAGATEASAKLAEE*TYRLTCLRCCQLEGSAHQCTWP*SGKLAGRTGASQRAV*SRALNSPRERISSAEPGHC*LHFQPGSGGSICRLPARRFPRCHAEQKGQHLVDGLLPSVALCGGKIAA*IPL*HQRWGWITGY*EPAKSAQCR**IDEVLRHSFWFAFLYLRQVRRRHEFLRGDHAGAGNGLYRTGPAR*SFWYGCGA*TIDSRS*NGT*TGAGGY*N*TCAARRV*RRG*CCRFYGESVTTRRSLCRARGEGP**RKSFALCWQY**RWRLPREDCRSGW**SAVQSEKWRKRPGLL*PLLSAAAVGTARIWCGQ*RYSCRCLC*SATYPLMEVRSL\n",
            "Length of the protein sequence before the first stop codon: 50\n",
            "Number of stop codons in the translated protein sequence: 45\n"
          ]
        }
      ],
      "source": [
        "# Task 18\n",
        "\n",
        "# For the thrA gene above, now imagine that the letter at both index 3 and index 4 are deleted.\n",
        "# Perform a virtual translation of the remaining sequence, print out the translated protein sequence,\n",
        "# find out how long is the protein sequence (before translation results in the first stop condon, represented by '*'),\n",
        "# and how many stop condons are in the sequence.\n",
        "# (To make your sequence still a multiple of three, delete the last letter.)\n",
        "\n",
        "modified_thrA2 = thrA[:3] + thrA[5:-1]\n",
        "modified_protein_sequence2 = translate(str(modified_thrA2))\n",
        "\n",
        "if '*' in modified_protein_sequence2:\n",
        "  length_before_stop2 = modified_protein_sequence2.index('*')\n",
        "else:\n",
        "  length_before_stop2 = len(modified_protein_sequence2)\n",
        "\n",
        "num_stop_codons_2 = modified_protein_sequence2.count('*')\n",
        "\n",
        "print(f\"\\nModified DNA sequence (first 100 bases): {modified_thrA2[:100]}\")\n",
        "print(f\"\\nTranslated protein sequence:\\n{modified_protein_sequence2}\")\n",
        "print(f\"Length of the protein sequence before the first stop codon: {length_before_stop2}\")\n",
        "print(f\"Number of stop codons in the translated protein sequence: {num_stop_codons_2}\")"
      ]
    },
    {
      "cell_type": "code",
      "execution_count": 47,
      "id": "07c307e8-e638-4f34-acbb-0cde54a79fe4",
      "metadata": {
        "id": "07c307e8-e638-4f34-acbb-0cde54a79fe4",
        "colab": {
          "base_uri": "https://localhost:8080/"
        },
        "outputId": "3bed251e-981e-4f12-b60e-d0a3b817443f"
      },
      "outputs": [
        {
          "output_type": "stream",
          "name": "stdout",
          "text": [
            "\n",
            "Modified DNA sequence (first 100 bases): ATGGTGTTGAAGTTCGGCGGTACATCAGTGGCAAATGCAGAACGTTTTCTGCGTGTTGCCGATATTCTGGAAAGCAATGCCAGGCAGGGGCAGGTGGCCA\n",
            "\n",
            "Translated protein sequence:\n",
            "MVLKFGGTSVANAERFLRVADILESNARQGQVATVLSAPAKITNHLVAMIEKTISGQDALPNISDAERIFAELLTGLAAAQPGFPLAQLKTFVDQEFAQIKHVLHGISLLGQCPDSINAALICRGEKMSIAIMAGVLEARGHNVTVIDPVEKLLAVGHYLESTVDIAESTRRIAASRIPADHMVLMAGFTAGNEKGELVVLGRNGSDYSAAVLAACLRADCCEIWTDVDGVYTCDPRQVPDARLLKSMSYQEAMELSYFGAKVLHPRTITPIAQFQIPCLIKNTGNPQAPGTLIGASRDEDELPVKGISNLNNMAMFSVSGPGMKGMVGMAARVFAAMSRARISVVLITQSSSEYSISFCVPQSDCVRAERAMQEEFYLELKEGLLEPLAVTERLAIISVVGDGMRTLRGISAKFFAALARANINIVAIAQGSSERSISVVVNNDDATTGVRVTHQMLFNTDQVIEVFVIGVGGVGGALLEQLKRQQSWLKNKHIDLRVCGVANSKALLTNVHGLNLENWQEELAQAKEPFNLGRLIRLVKEYHLLNPVIVDCTSSQAVADQYADFLREGFHVVTPNKKANTSSMDYYHQLRYAAEKSRRKFLYDTNVGAGLPVIENLQNLLNAGDELMKFSGILSGSLSYIFGKLDEGMSFSEATTLAREMGYTEPDPRDDLSGMDVARKLLILARETGRELELADIEIEPVLPAEFNAEGDVAAFMANLSQLDDLFAARVAKARDEGKVLRYVGNIDEDGVCRVKIAEVDGNDPLFKVKNGENALAFYSHYYQPLPLVLRGYGAGNDVTAAGVFADLLRTLSWKLGV\n",
            "Length of the protein sequence before the first stop codon: 819\n",
            "Number of stop codons in the translated protein sequence: 0\n"
          ]
        }
      ],
      "source": [
        "# Task 19\n",
        "\n",
        "# Repeat task 18 by deleting the letters at index 3, 4, and 5.\n",
        "\n",
        "modified_thrA_3 = thrA[:3] + thrA[6:-2]\n",
        "\n",
        "\n",
        "modified_protein_sequence_3 = translate(str(modified_thrA_3))\n",
        "\n",
        "if '*' in modified_protein_sequence_3:\n",
        "    length_before_stop_3 = modified_protein_sequence_3.index('*')\n",
        "else:\n",
        "    length_before_stop_3 = len(modified_protein_sequence_3)\n",
        "\n",
        "num_stop_codons_3 = modified_protein_sequence_3.count('*')\n",
        "\n",
        "print(f\"\\nModified DNA sequence (first 100 bases): {modified_thrA_3[:100]}\")\n",
        "print(f\"\\nTranslated protein sequence:\\n{modified_protein_sequence_3}\")\n",
        "print(f\"Length of the protein sequence before the first stop codon: {length_before_stop_3}\")\n",
        "print(f\"Number of stop codons in the translated protein sequence: {num_stop_codons_3}\")\n",
        "\n"
      ]
    },
    {
      "cell_type": "markdown",
      "id": "d66dfca6",
      "metadata": {
        "id": "d66dfca6"
      },
      "source": [
        "### Sequence alignment using Biopython (4 tasks)\n",
        "\n",
        "We will be using the Bio.Align."
      ]
    },
    {
      "cell_type": "code",
      "execution_count": 48,
      "id": "81116284-3afc-43f4-b09b-9e9d325e8603",
      "metadata": {
        "colab": {
          "base_uri": "https://localhost:8080/"
        },
        "id": "81116284-3afc-43f4-b09b-9e9d325e8603",
        "outputId": "0b9f4491-a605-4ca4-bc0c-953a29438ac8"
      },
      "outputs": [
        {
          "output_type": "stream",
          "name": "stdout",
          "text": [
            "Alignment:\n",
            "target            0 ATGGAAGATGAAATCGCCG-CCTGCGGCG-ATGATGAAGG--A-GATC 43\n",
            "                  0 .|.-|.|..|...-||.||-||-|.||-|-||.|.||||.--|-|||| 48\n",
            "query             0 CTC-ACGCGGCGG-CGGCGGCC-GAGG-GCATCAGGAAGATCAAGATC 44\n",
            "\n",
            "Score: 4.0\n",
            "Counts - Matches: 26, Mismatches: 13, Gaps: 9\n"
          ]
        }
      ],
      "source": [
        "#### Task 20: Global Sequence Alignment with DNA Sequences\n",
        "'''\n",
        "1. Import the necessary modules from Biopython: from Bio.Align import PairwiseAligner\n",
        "2. Define two DNA sequences as strings.\n",
        "3. Create an object aligner = PairwiseAligner()\n",
        "4. Configure the alignment mode and scoring (match = 1, mismatch = gap_open = gap extension = -1\n",
        "    See example at https://biopython.org/docs/1.76/api/Bio.Align.html\n",
        "\n",
        "5. Perform global sequence alignment using the Needleman-Wunsch algorithm.\n",
        "6. Print the aligned sequences (if there are multiple optimal alignments, print out only the first one), the alignment score,\n",
        "   and the counts of gaps, matches, and mismatches\n",
        "'''\n",
        "\n",
        "from Bio.Align import PairwiseAligner\n",
        "\n",
        "seq1 = 'ATGGAAGATGAAATCGCCGCCTGCGGCGATGATGAAGGAGATC'\n",
        "seq2 = 'CTCACGCGGCGGCGGCGGCCGAGGGCATCAGGAAGATCAAGATC'\n",
        "\n",
        "aligner = PairwiseAligner()\n",
        "\n",
        "aligner.mode = 'global'\n",
        "aligner.match_score = 1\n",
        "aligner.mismatch_score = -1\n",
        "aligner.open_gap_score = -1\n",
        "aligner.extend_gap_score = -1\n",
        "\n",
        "# Step 5: Perform the alignment\n",
        "alignments = aligner.align(seq1, seq2)\n",
        "\n",
        "# Step 6: Process and print the first alignment\n",
        "alignment = alignments[0]  # Take the first optimal alignment\n",
        "print(f\"Alignment:\\n{alignment}\")\n",
        "\n",
        "# Print the alignment score\n",
        "print(f\"Score: {alignment.score}\")\n",
        "\n",
        "# Count the matches, mismatches, and gaps\n",
        "aligned_str1, aligned_str2 = alignment.aligned  # Retrieve the aligned regions\n",
        "matches = sum(c1 == c2 for c1, c2 in zip(str(alignment[0]), str(alignment[1])) if c1 != '-' and c2 != '-')\n",
        "gaps = str(alignment[0]).count('-') + str(alignment[1]).count('-')\n",
        "mismatches = len(alignment[0]) - matches - gaps\n",
        "\n",
        "print(f\"Counts - Matches: {matches}, Mismatches: {mismatches}, Gaps: {gaps}\")"
      ]
    },
    {
      "cell_type": "code",
      "execution_count": 49,
      "id": "ecc2f2e9-0fa0-4cb6-a9d0-734838054576",
      "metadata": {
        "id": "ecc2f2e9-0fa0-4cb6-a9d0-734838054576",
        "colab": {
          "base_uri": "https://localhost:8080/"
        },
        "outputId": "d9ea5766-6eb3-4f99-8279-d4b7e020b230"
      },
      "outputs": [
        {
          "output_type": "stream",
          "name": "stdout",
          "text": [
            "Alignment:\n",
            "target            0 ATGGAAGATGAAATCGCCGCCTGCGGCGATGATGAAG---GAGATC 43\n",
            "                  0 .|--.|...|....||.||.|.|.||..||.|.||||---.||||| 46\n",
            "query             0 CT--CACGCGGCGGCGGCGGCCGAGGGCATCAGGAAGATCAAGATC 44\n",
            "\n",
            "Score: -4.0\n",
            "Counts - Matches: 23, Mismatches: 18, Gaps: 5\n"
          ]
        }
      ],
      "source": [
        "# Task 21: Perform global alignment between the two sequences with open_gap_score = -3\n",
        "# Do you expect to see more gaps or less gaps? Longer gaps or shorter gaps?\n",
        "\n",
        "from Bio.Align import PairwiseAligner\n",
        "\n",
        "\n",
        "seq1 = 'ATGGAAGATGAAATCGCCGCCTGCGGCGATGATGAAGGAGATC'\n",
        "seq2 = 'CTCACGCGGCGGCGGCGGCCGAGGGCATCAGGAAGATCAAGATC'\n",
        "\n",
        "\n",
        "aligner = PairwiseAligner()\n",
        "\n",
        "\n",
        "aligner.mode = 'global'\n",
        "aligner.match_score = 1\n",
        "aligner.mismatch_score = -1\n",
        "aligner.open_gap_score = -3\n",
        "aligner.extend_gap_score = -1\n",
        "\n",
        "\n",
        "alignments = aligner.align(seq1, seq2)\n",
        "\n",
        "\n",
        "alignment = alignments[0]\n",
        "\n",
        "print(f\"Alignment:\\n{alignment}\")\n",
        "\n",
        "\n",
        "print(f\"Score: {alignment.score}\")\n",
        "\n",
        "\n",
        "aligned_str1, aligned_str2 = alignment.aligned\n",
        "matches = sum(c1 == c2 for c1, c2 in zip(str(alignment[0]), str(alignment[1])) if c1 != '-' and c2 != '-')\n",
        "gaps = str(alignment[0]).count('-') + str(alignment[1]).count('-')\n",
        "mismatches = len(alignment[0]) - matches - gaps\n",
        "\n",
        "print(f\"Counts - Matches: {matches}, Mismatches: {mismatches}, Gaps: {gaps}\")\n"
      ]
    },
    {
      "cell_type": "code",
      "execution_count": 50,
      "id": "43821b2e-feec-4fa8-8e4c-efab8280f6d8",
      "metadata": {
        "id": "43821b2e-feec-4fa8-8e4c-efab8280f6d8",
        "colab": {
          "base_uri": "https://localhost:8080/"
        },
        "outputId": "e8d0654f-804d-4e14-8eb4-5c6da08336a3"
      },
      "outputs": [
        {
          "output_type": "stream",
          "name": "stdout",
          "text": [
            "Alignment:\n",
            "target           14 CGCCGC--CTGCGGC-GATG--ATGAAGGA-GATC 43\n",
            "                  0 |||.||--|.|||||-||.|--||.|-|||-|||| 35\n",
            "query             4 CGCGGCGGCGGCGGCCGAGGGCATCA-GGAAGATC 38\n",
            "\n",
            "Score: 13.0\n",
            "Counts - Matches: 24, Mismatches: 4, Gaps: 7\n"
          ]
        }
      ],
      "source": [
        "# Task 22: Perform local alignment between the two sequences with the same scoring as in Task 1, but gap_open_score = -1\n",
        "# Do you expect to see gaps / mismatches at either end of the alignment?\n",
        "\n",
        "from Bio.Align import PairwiseAligner\n",
        "\n",
        "seq1 = 'ATGGAAGATGAAATCGCCGCCTGCGGCGATGATGAAGGAGATC'\n",
        "seq2 = 'CTCACGCGGCGGCGGCGGCCGAGGGCATCAGGAAGATCAAGATC'\n",
        "\n",
        "aligner = PairwiseAligner()\n",
        "\n",
        "aligner.mode = 'local'\n",
        "aligner.match_score = 1\n",
        "aligner.mismatch_score = -1\n",
        "aligner.open_gap_score = -1\n",
        "aligner.extend_gap_score = -1\n",
        "\n",
        "alignments = aligner.align(seq1, seq2)\n",
        "\n",
        "alignment = alignments[0]\n",
        "print(f\"Alignment:\\n{alignment}\")\n",
        "\n",
        "\n",
        "print(f\"Score: {alignment.score}\")\n",
        "\n",
        "\n",
        "aligned_str1, aligned_str2 = alignment.aligned\n",
        "matches = sum(c1 == c2 for c1, c2 in zip(str(alignment[0]), str(alignment[1])) if c1 != '-' and c2 != '-')\n",
        "gaps = str(alignment[0]).count('-') + str(alignment[1]).count('-')\n",
        "mismatches = len(alignment[0]) - matches - gaps\n",
        "\n",
        "print(f\"Counts - Matches: {matches}, Mismatches: {mismatches}, Gaps: {gaps}\")\n"
      ]
    },
    {
      "cell_type": "code",
      "execution_count": 51,
      "id": "f1353b90-14ca-4271-a93d-4de07a829a57",
      "metadata": {
        "id": "f1353b90-14ca-4271-a93d-4de07a829a57",
        "colab": {
          "base_uri": "https://localhost:8080/"
        },
        "outputId": "971a93a1-cb6f-44e8-9fc7-9360fe40e679"
      },
      "outputs": [
        {
          "output_type": "stream",
          "name": "stdout",
          "text": [
            "Alignment:\n",
            "target            2 GGAAGATGAA 12\n",
            "                  0 |||||||.|| 10\n",
            "query            30 GGAAGATCAA 40\n",
            "\n",
            "Score: 8.0\n",
            "Counts - Matches: 9, Mismatches: 1, Gaps: 0\n"
          ]
        }
      ],
      "source": [
        "# Task 23: Perform \"local\" alignment between the two sequences, with the same scoring as in task 2\n",
        "# Do you expect lower or higher score than the alignment from Task 2?\n",
        "\n",
        "from Bio.Align import PairwiseAligner\n",
        "\n",
        "seq1 = 'ATGGAAGATGAAATCGCCGCCTGCGGCGATGATGAAGGAGATC'\n",
        "seq2 = 'CTCACGCGGCGGCGGCGGCCGAGGGCATCAGGAAGATCAAGATC'\n",
        "\n",
        "aligner = PairwiseAligner()\n",
        "\n",
        "aligner.mode = 'local'\n",
        "aligner.match_score = 1\n",
        "aligner.mismatch_score = -1\n",
        "aligner.open_gap_score = -3\n",
        "aligner.extend_gap_score = -1\n",
        "\n",
        "alignments = aligner.align(seq1, seq2)\n",
        "\n",
        "alignment = alignments[0]\n",
        "print(f\"Alignment:\\n{alignment}\")\n",
        "\n",
        "\n",
        "print(f\"Score: {alignment.score}\")\n",
        "\n",
        "aligned_str1, aligned_str2 = alignment.aligned\n",
        "matches = sum(c1 == c2 for c1, c2 in zip(str(alignment[0]), str(alignment[1])) if c1 != '-' and c2 != '-')\n",
        "gaps = str(alignment[0]).count('-') + str(alignment[1]).count('-')\n",
        "mismatches = len(alignment[0]) - matches - gaps\n",
        "\n",
        "print(f\"Counts - Matches: {matches}, Mismatches: {mismatches}, Gaps: {gaps}\")\n"
      ]
    },
    {
      "cell_type": "markdown",
      "id": "8a1b020e-42b3-4719-8f6b-feec33cb341e",
      "metadata": {
        "id": "8a1b020e-42b3-4719-8f6b-feec33cb341e"
      },
      "source": [
        "### Non-coding Related Questions"
      ]
    },
    {
      "cell_type": "markdown",
      "id": "65f5b92a-11d6-49cf-83bb-613380271edf",
      "metadata": {
        "id": "65f5b92a-11d6-49cf-83bb-613380271edf"
      },
      "source": [
        "Q1: What are the differences between example_list.reverse() and exmaple_list[::-1]? Type your answer below.\n",
        "\n",
        "A1: The reverse() function is an in-place operation that reverses the list directly. example_list[::-1] creates an entirely new list with the elements in reverse order."
      ]
    },
    {
      "cell_type": "markdown",
      "id": "004d8992-f6c9-4eb3-aa62-20ac0adea2f8",
      "metadata": {
        "id": "004d8992-f6c9-4eb3-aa62-20ac0adea2f8"
      },
      "source": [
        "Q2: Ture or False - when deciding a scoring system for performing global sequence alignment such as in Task 20 and 21, the one with the highest scoring alignment should be used. Explain your answer.\n",
        "\n",
        "A2: False. The highest scoring alignment may not always be the best, as the scoring system should reflect biological relevance. A scoring system that rewards matches or penalizes gaps too much might lead to an alignment that overlooks important biological features, such as insertions or deletions. The goal is to balance score maximization with biological accuracy, so gaps and mismatches are properly penalized based on the sequences' actual relationship."
      ]
    },
    {
      "cell_type": "markdown",
      "id": "50d5b574-c41a-4cba-9510-09f1f9a7ff51",
      "metadata": {
        "id": "50d5b574-c41a-4cba-9510-09f1f9a7ff51"
      },
      "source": [
        "Q3: True or False - when aligning two sequences, when the same scoring system is used, the global alignment will always lead to a higher score than the local alignment. Explain your answer.\n",
        "\n",
        "A3: False. Global alignment considers the entire sequence, which may introduce mismatches or gaps, while local alignment focuses on the best-matching subsequence, and ignore poorly aligned regions. In cases where two sequences share a highly similar region but differ significantly elsewhere, local alignment can yield a higher score. Therefore, a global alignment does not always result in a higher score than a local alignment."
      ]
    },
    {
      "cell_type": "markdown",
      "id": "f804141e-be35-4494-a562-b4f22ec37a77",
      "metadata": {
        "id": "f804141e-be35-4494-a562-b4f22ec37a77"
      },
      "source": [
        "## Extra Credit - experiment with random sequences"
      ]
    },
    {
      "cell_type": "code",
      "execution_count": null,
      "id": "05bd9eb8-54de-4aa8-bc92-ccf1eea2376f",
      "metadata": {
        "id": "05bd9eb8-54de-4aa8-bc92-ccf1eea2376f"
      },
      "outputs": [],
      "source": [
        "# Task E1:\n",
        "\n",
        "# Randomize the thrA gene sequence, repeat the procedure 100 times, compute the average length of the translated sequence before the\n",
        "# first codon, as well as the average number of stop codons in the translated sequence\n",
        "\n",
        "# To shuffle the sequence, import random, and use the random.shuffle(list) function, which randomizes the list IN PLACE.\n",
        "\n",
        "\n"
      ]
    },
    {
      "cell_type": "code",
      "execution_count": null,
      "id": "0f6a0de7-7d7e-4ce6-8af9-42a459cad3fc",
      "metadata": {
        "id": "0f6a0de7-7d7e-4ce6-8af9-42a459cad3fc"
      },
      "outputs": [],
      "source": [
        "# Task E2:\n",
        "\n",
        "# Take the two sequences from Task 20, perform a local alignment with\n",
        "# match_score = 1, mismatch_score = -1, gap_open_score and gap_extension_score = -100, save the alignment score S\n",
        "# Randomize seq1 and redo the alignment, repeat 100 times and collect the alignment scores S_rand. Repeart how many values in S_rand is >= S.\n"
      ]
    }
  ],
  "metadata": {
    "colab": {
      "provenance": [],
      "include_colab_link": true
    },
    "kernelspec": {
      "display_name": "Python 3 (ipykernel)",
      "language": "python",
      "name": "python3"
    },
    "language_info": {
      "codemirror_mode": {
        "name": "ipython",
        "version": 3
      },
      "file_extension": ".py",
      "mimetype": "text/x-python",
      "name": "python",
      "nbconvert_exporter": "python",
      "pygments_lexer": "ipython3",
      "version": "3.12.4"
    }
  },
  "nbformat": 4,
  "nbformat_minor": 5
}